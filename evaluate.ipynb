{
 "cells": [
  {
   "cell_type": "code",
   "execution_count": null,
   "id": "58e80e23-7227-4e5f-83ba-bbfd4fd430ba",
   "metadata": {},
   "outputs": [],
   "source": [
    "%load_ext autoreload\n",
    "%autoreload 2"
   ]
  },
  {
   "cell_type": "code",
   "execution_count": null,
   "id": "4b33fb07-8160-4604-85d9-be8373c6d65d",
   "metadata": {},
   "outputs": [],
   "source": [
    "import torch\n",
    "import json"
   ]
  },
  {
   "cell_type": "code",
   "execution_count": null,
   "id": "aafd3450-fde7-44fe-aef7-e631df94bff2",
   "metadata": {},
   "outputs": [],
   "source": [
    "from modeling_llama import LlamaForCausalLM\n",
    "from transformers import AutoTokenizer"
   ]
  },
  {
   "cell_type": "code",
   "execution_count": null,
   "id": "08bcd0d1-7f5e-40e9-8768-c81b955c185b",
   "metadata": {},
   "outputs": [],
   "source": [
    "from decoding import infer"
   ]
  },
  {
   "cell_type": "code",
   "execution_count": null,
   "id": "1b6de24f-4375-4385-8ab6-d05f389ae694",
   "metadata": {},
   "outputs": [],
   "source": [
    "with open('skip_layers.json', 'r') as f:\n",
    "    skip_layers = json.load(f)"
   ]
  },
  {
   "cell_type": "code",
   "execution_count": null,
   "id": "707ea855-07a2-4544-8edd-bfeea3d4d773",
   "metadata": {},
   "outputs": [],
   "source": [
    "torch.nn.Linear.reset_parameters = lambda x: None\n",
    "model = LlamaForCausalLM.from_pretrained('../llama-2-13b/', torch_dtype=torch.bfloat16)"
   ]
  },
  {
   "cell_type": "code",
   "execution_count": null,
   "id": "277a49c1-0fd8-4a41-bf62-7acd877c44f6",
   "metadata": {},
   "outputs": [],
   "source": [
    "model = model.to('cuda:0').eval()"
   ]
  },
  {
   "cell_type": "code",
   "execution_count": null,
   "id": "12998ee3-3c59-44df-998a-c64ab83acc58",
   "metadata": {},
   "outputs": [],
   "source": [
    "model.set_skip_layers(skip_layers['llama-2-13b']['attention'], skip_layers['llama-2-13b']['mlp'])"
   ]
  },
  {
   "cell_type": "code",
   "execution_count": null,
   "id": "e0d85158-fc54-4708-bd90-bc967476c4f1",
   "metadata": {},
   "outputs": [],
   "source": [
    "print(model.get_skip_layers())"
   ]
  },
  {
   "cell_type": "code",
   "execution_count": null,
   "id": "0d5dc125-c5d0-49ff-b929-d70a5cbca2eb",
   "metadata": {},
   "outputs": [],
   "source": [
    "tokenizer = AutoTokenizer.from_pretrained('../llama-2-13b/')"
   ]
  },
  {
   "cell_type": "code",
   "execution_count": null,
   "id": "eb4dc40b-886e-41a5-81f0-f9ae327fb006",
   "metadata": {},
   "outputs": [],
   "source": [
    "# warmup\n",
    "_ = infer(model, tokenizer, 'Where is Zurich?\\nAnswer:', 'base', max_new_tokens=512)"
   ]
  },
  {
   "cell_type": "code",
   "execution_count": null,
   "id": "301003da-19cc-4209-9a62-f1d7f9ff15fd",
   "metadata": {},
   "outputs": [],
   "source": [
    "xsum_example = '''The full cost of damage in Newton Stewart, one of the areas worst affected, is still being assessed. Repair work is ongoing in Hawick and many roads in Peeblesshire remain badly affected by standing water. Trains on the west coast mainline face disruption due to damage at the Lamington Viaduct. Many businesses and householders were affected by flooding in Newton Stewart after the River Cree overflowed into the town. First Minister Nicola Sturgeon visited the area to inspect the damage. The waters breached a retaining wall, flooding many commercial properties on Victoria Street - the main shopping thoroughfare. Jeanette Tate, who owns the Cinnamon Cafe which was badly affected, said she could not fault the multi-agency response once the flood hit. However, she said more preventative work could have been carried out to ensure the retaining wall did not fail. \"It is difficult but I do think there is so much publicity for Dumfries and the Nith - and I totally appreciate that - but it is almost like we're neglected or forgotten,\" she said. \"That may not be true but it is perhaps my perspective over the last few days. \"Why were you not ready to help us a bit more when the warning and the alarm alerts had gone out?\" Meanwhile, a flood alert remains in place across the Borders because of the constant rain. Peebles was badly hit by problems, sparking calls to introduce more defences in the area. Scottish Borders Council has put a list on its website of the roads worst affected and drivers have been urged not to ignore closure signs. The Labour Party's deputy Scottish leader Alex Rowley was in Hawick on Monday to see the situation first hand. He said it was important to get the flood protection plan right but backed calls to speed up the process. \"I was quite taken aback by the amount of damage that has been done,\" he said. \"Obviously it is heart-breaking for people who have been forced out of their homes and the impact on businesses.\" He said it was important that \"immediate steps\" were taken to protect the areas most vulnerable and a clear timetable put in place for flood prevention plans. Have you been affected by flooding in Dumfries and Galloway or the Borders? Tell us about your experience of the situation and how it was handled. Email us on selkirk.news@bbc.co.uk or dumfries@bbc.co.uk.\n",
    "Summary:'''"
   ]
  },
  {
   "cell_type": "code",
   "execution_count": null,
   "id": "1f2b16c0-8183-4529-b9b4-b60229fcb051",
   "metadata": {},
   "outputs": [],
   "source": [
    "%%time\n",
    "infer(model, tokenizer, xsum_example, 'base', max_new_tokens=512)"
   ]
  },
  {
   "cell_type": "code",
   "execution_count": null,
   "id": "117784b4-e061-4545-bab1-f4ee681871f7",
   "metadata": {},
   "outputs": [],
   "source": [
    "%%time\n",
    "infer(model, tokenizer, xsum_example, 'essg', \n",
    "      max_new_tokens=512, max_step_draft=12, th_stop_draft=0.8, auto_th_stop_draft=False)"
   ]
  },
  {
   "cell_type": "code",
   "execution_count": null,
   "id": "6c704650-8ed8-4465-a2e8-eea85312c50a",
   "metadata": {},
   "outputs": [],
   "source": []
  }
 ],
 "metadata": {
  "kernelspec": {
   "display_name": "nebula-fav2",
   "language": "python",
   "name": "nebula-fav2"
  },
  "language_info": {
   "codemirror_mode": {
    "name": "ipython",
    "version": 3
   },
   "file_extension": ".py",
   "mimetype": "text/x-python",
   "name": "python",
   "nbconvert_exporter": "python",
   "pygments_lexer": "ipython3",
   "version": "3.10.11"
  }
 },
 "nbformat": 4,
 "nbformat_minor": 5
}
